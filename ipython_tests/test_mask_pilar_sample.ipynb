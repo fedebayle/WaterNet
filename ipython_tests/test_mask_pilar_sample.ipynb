{
 "cells": [
  {
   "cell_type": "code",
   "execution_count": 5,
   "metadata": {
    "collapsed": true
   },
   "outputs": [],
   "source": [
    "import rasterio\n",
    "import fiona\n",
    "import numpy as np\n",
    "import rasterio.features\n",
    "from matplotlib import pyplot as plt\n",
    "%matplotlib inline  "
   ]
  },
  {
   "cell_type": "code",
   "execution_count": 1,
   "metadata": {
    "collapsed": true
   },
   "outputs": [],
   "source": [
    "def save_bitmap(file_path, image, source):\n",
    "    \"\"\"Save a bitmap given as a 2D matrix as a GeoTIFF.\"\"\"\n",
    "\n",
    "    print(\"Save result at {}.\".format(file_path))\n",
    "    with rasterio.open(\n",
    "            file_path,\n",
    "            'w',\n",
    "            driver='GTiff',\n",
    "            dtype=rasterio.uint8,\n",
    "            count=1,\n",
    "            width=source.width,\n",
    "            height=source.height,\n",
    "            transform=source.transform) as dst:\n",
    "        dst.write(image, indexes=1)\n",
    "\n",
    "def create_bitmap(raster_dataset, shapefile_paths):\n",
    "    \"\"\"Create the bitmap for a given satellite image.\"\"\"\n",
    "\n",
    "    water_features = np.empty((0, ))\n",
    "\n",
    "    print(\"Create bitmap for water features.\")\n",
    "    for shapefile_path in shapefile_paths:\n",
    "        try:\n",
    "            print(\"Load shapefile {}.\".format(shapefile_path))\n",
    "            with fiona.open(shapefile_path) as shapefile:\n",
    "                # Each feature in the shapefile also contains meta information such as\n",
    "                # wether the features is a lake or a river. We only care about the geometry\n",
    "                # of the feature i.e. where it is located and what shape it has.\n",
    "                geometries = [feature['geometry'] for feature in shapefile if feature[\"geometry\"] is not None]\n",
    "\n",
    "                water_features = np.concatenate(\n",
    "                    (water_features, geometries), axis=0)\n",
    "        except IOError as e:\n",
    "            print(\"No shapefile found.\")\n",
    "            sys.exit(1)\n",
    "\n",
    "    # Now that we have the vector data of all water features in our satellite image\n",
    "    # we \"burn it\" into a new raster so that we get a B/W image with water features\n",
    "    # in white and the rest in black. We choose the value 255 so that there is a stark\n",
    "    # contrast between water and non-water pixels. This is only for visualisation\n",
    "    # purposes. For the classifier we use 0s and 1s.\n",
    "    bitmap_image = rasterio.features.rasterize(\n",
    "        ((g, 255) for g in water_features),\n",
    "        out_shape=raster_dataset.shape,\n",
    "        transform=raster_dataset.transform)\n",
    "\n",
    "    save_bitmap(tif_path, bitmap_image, raster_dataset)\n",
    "\n",
    "    bitmap_image[bitmap_image == 255] = 1\n",
    "    return bitmap_image\n"
   ]
  },
  {
   "cell_type": "code",
   "execution_count": 7,
   "metadata": {
    "collapsed": false
   },
   "outputs": [
    {
     "name": "stdout",
     "output_type": "stream",
     "text": [
      "Create bitmap for water features.\n",
      "Load shapefile ./techo_2016/techo_2016_21s/techo_2016_21s.shp.\n",
      "Save result at tif_tests/bitmap_pilar_sub.tif.\n"
     ]
    },
    {
     "name": "stderr",
     "output_type": "stream",
     "text": [
      "/usr/local/lib/python2.7/dist-packages/ipykernel/__main__.py:5: FutureWarning: The value of this property will change in version 1.0. Please see https://github.com/mapbox/rasterio/issues/86 for details.\n",
      "/usr/local/lib/python2.7/dist-packages/ipykernel/__main__.py:47: FutureWarning: The value of this property will change in version 1.0. Please see https://github.com/mapbox/rasterio/issues/86 for details.\n"
     ]
    }
   ],
   "source": [
    "tif_path  = 'tif_tests/bitmap_pilar_sub.tif'\n",
    "raster_test = \"clip_sub_S2A_OPER_MSI_L1C_TL_MTI__20160330T201750_A004025_T21HUB_B0stack_raster.tif\"\n",
    "raster_dataset = rasterio.open(raster_test)\n",
    "shapefile_paths = [\"./techo_2016/techo_2016_21s/techo_2016_21s.shp\"]\n",
    "img = create_bitmap(raster_dataset, shapefile_paths)"
   ]
  },
  {
   "cell_type": "code",
   "execution_count": 12,
   "metadata": {
    "collapsed": false
   },
   "outputs": [
    {
     "data": {
      "image/png": "[encoded data removed]",
      "text/plain": [
       "<matplotlib.figure.Figure at 0x7f8d33f99ad0>"
      ]
     },
     "metadata": {},
     "output_type": "display_data"
    }
   ],
   "source": [
    "plt.figure()\n",
    "plt.imshow(img)\n",
    "plt.show()"
   ]
  }
 ],
 "metadata": {
  "kernelspec": {
   "display_name": "Python 2",
   "language": "python",
   "name": "python2"
  },
  "language_info": {
   "codemirror_mode": {
    "name": "ipython",
    "version": 2
   },
   "file_extension": ".py",
   "mimetype": "text/x-python",
   "name": "python",
   "nbconvert_exporter": "python",
   "pygments_lexer": "ipython2",
   "version": "2.7.6"
  }
 },
 "nbformat": 4,
 "nbformat_minor": 0
}
